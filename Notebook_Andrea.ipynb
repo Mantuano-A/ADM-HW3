{
 "cells": [
  {
   "cell_type": "code",
   "execution_count": 7,
   "id": "9eb5feca",
   "metadata": {},
   "outputs": [],
   "source": [
    "from bs4 import BeautifulSoup as bs\n",
    "import requests"
   ]
  },
  {
   "cell_type": "code",
   "execution_count": 8,
   "id": "068990a2",
   "metadata": {},
   "outputs": [],
   "source": [
    "urls = []\n",
    "\n",
    "i = 0\n",
    "for i in range(20):\n",
    "    url = 'https://myanimelist.net/topanime.php?limit='+str(i*50)\n",
    "    r = requests.get(url)\n",
    "    html_content = r.text\n",
    "    soup = bs(html_content, 'lxml')\n",
    "    links = soup.find_all('h3') \n",
    "\n",
    "    for anime in links[:-3]:\n",
    "        if anime.find('a'):\n",
    "            urls.append(anime.find('a')['href'])"
   ]
  },
  {
   "cell_type": "code",
   "execution_count": 10,
   "id": "7783b06b",
   "metadata": {},
   "outputs": [
    {
     "data": {
      "text/plain": [
       "<function TextIOWrapper.close()>"
      ]
     },
     "execution_count": 10,
     "metadata": {},
     "output_type": "execute_result"
    }
   ],
   "source": [
    "f = open(\"topAnimedass.txt\", 'w', encoding=\"utf8\")\n",
    "f.write('\\n'.join(urls))\n",
    "f.close"
   ]
  },
  {
   "cell_type": "code",
   "execution_count": null,
   "id": "5cf9197d",
   "metadata": {},
   "outputs": [],
   "source": []
  }
 ],
 "metadata": {
  "kernelspec": {
   "display_name": "Python 3",
   "language": "python",
   "name": "python3"
  },
  "language_info": {
   "codemirror_mode": {
    "name": "ipython",
    "version": 3
   },
   "file_extension": ".py",
   "mimetype": "text/x-python",
   "name": "python",
   "nbconvert_exporter": "python",
   "pygments_lexer": "ipython3",
   "version": "3.8.8"
  }
 },
 "nbformat": 4,
 "nbformat_minor": 5
}
