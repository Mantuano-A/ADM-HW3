{
 "cells": [
  {
   "cell_type": "markdown",
   "id": "b6b2692f",
   "metadata": {},
   "source": [
    "# 1. Data collection"
   ]
  },
  {
   "cell_type": "markdown",
   "id": "ddb0f8df",
   "metadata": {},
   "source": [
    "## 1.1 Get the list of animes"
   ]
  },
  {
   "cell_type": "code",
   "execution_count": 58,
   "id": "9eb5feca",
   "metadata": {},
   "outputs": [],
   "source": [
    "from bs4 import BeautifulSoup as bs\n",
    "from datetime import datetime as dt\n",
    "import numpy as np\n",
    "import pandas as pd \n",
    "import requests\n",
    "import csv\n",
    "import os"
   ]
  },
  {
   "cell_type": "code",
   "execution_count": 2,
   "id": "068990a2",
   "metadata": {},
   "outputs": [],
   "source": [
    "def getUrls(start, stop): \n",
    "\n",
    "    urls = []\n",
    "\n",
    "    for i in range(start, stop):\n",
    "        url = 'https://myanimelist.net/topanime.php?limit='+str(i*50)\n",
    "        r = requests.get(url)\n",
    "        html_content = r.text\n",
    "        soup = bs(html_content, 'lxml')\n",
    "        links = soup.find_all('h3') \n",
    "\n",
    "        for anime in links[:-3]:\n",
    "            if anime.find('a'):\n",
    "                urls.append(anime.find('a')['href'])\n",
    "    return urls"
   ]
  },
  {
   "cell_type": "code",
   "execution_count": 3,
   "id": "7783b06b",
   "metadata": {},
   "outputs": [
    {
     "data": {
      "text/plain": [
       "<function TextIOWrapper.close()>"
      ]
     },
     "execution_count": 3,
     "metadata": {},
     "output_type": "execute_result"
    }
   ],
   "source": [
    "### PROVAAAAAA da cambiare il range da 0 a 20\n",
    "\n",
    "f = open(\"topAnime.txt\", 'w', encoding=\"utf8\")\n",
    "f.write('\\n'.join(getUrls(0,20)))\n",
    "f.close"
   ]
  },
  {
   "cell_type": "markdown",
   "id": "943676c9",
   "metadata": {},
   "source": [
    "## 1.2 Crawl animes"
   ]
  },
  {
   "cell_type": "code",
   "execution_count": 37,
   "id": "453ee135",
   "metadata": {},
   "outputs": [],
   "source": [
    "def saveHtml(page):\n",
    "#saving the HTML file of page 'page' in the corresponding folder\n",
    "\n",
    "    subfolder = \"downloaded_Html/page_{}\".format(page)\n",
    "    os.makedirs(subfolder)\n",
    "\n",
    "    f = open(\"topAnime.txt\", 'r', encoding=\"utf8\")\n",
    "    lines = f.readlines()[(page-1)*50:(page)*50]\n",
    "    lines = [line.rstrip() for line in lines]\n",
    "    f.close\n",
    "\n",
    "    i = 1+50*(page-1)\n",
    "    for link in lines:\n",
    "        html = requests.get(link)\n",
    "        file_name = '{}/{}.html'.format(subfolder, i)\n",
    "        g = open(file_name, 'w', encoding=\"utf8\")\n",
    "        g.write(html.text)\n",
    "        g.close\n",
    "        i += 1"
   ]
  },
  {
   "cell_type": "code",
   "execution_count": 5,
   "id": "fef9c771",
   "metadata": {},
   "outputs": [],
   "source": [
    "#### PROVAAAAA da fare con un ciclo for\n",
    "\n",
    "saveHtml(1)"
   ]
  },
  {
   "cell_type": "markdown",
   "id": "71748ce9",
   "metadata": {},
   "source": [
    "## 1.3 Parse downloaded pages"
   ]
  },
  {
   "cell_type": "code",
   "execution_count": 59,
   "id": "dab96632",
   "metadata": {},
   "outputs": [],
   "source": [
    "def getTitle(anime):\n",
    "    return anime.strong.contents[0]"
   ]
  },
  {
   "cell_type": "code",
   "execution_count": 60,
   "id": "3a2279e8",
   "metadata": {},
   "outputs": [],
   "source": [
    "def getType(anime):\n",
    "    return anime.find(text = 'Type:').find_next('a').contents[0]"
   ]
  },
  {
   "cell_type": "code",
   "execution_count": 61,
   "id": "e6703f93",
   "metadata": {},
   "outputs": [],
   "source": [
    "def getNumEpis(anime):\n",
    "    return int(anime.find(text = 'Episodes:').next_element.strip())"
   ]
  },
  {
   "cell_type": "code",
   "execution_count": 62,
   "id": "babf54ee",
   "metadata": {},
   "outputs": [],
   "source": [
    "def getStart(anime):\n",
    "    date = anime.find(text = 'Aired:').next_element.strip()\n",
    "    if len(date)>15:\n",
    "        return dt.strptime(date.split(\" to \")[0], '%b %d, %Y' )\n",
    "    else:\n",
    "        return dt.strptime(date, '%b %d, %Y' )"
   ]
  },
  {
   "cell_type": "code",
   "execution_count": 63,
   "id": "170a2e6f",
   "metadata": {},
   "outputs": [],
   "source": [
    "def getEnd(anime):\n",
    "    date = anime.find(text = 'Aired:').next_element.strip()\n",
    "    if len(date)>15 and date.split(\" to \")[1] != \"?\":\n",
    "        return dt.strptime(date.split(\" to \")[1], '%b %d, %Y' )\n",
    "    else:\n",
    "        return pd.to_datetime(np.NaN, errors='coerce')"
   ]
  },
  {
   "cell_type": "code",
   "execution_count": 64,
   "id": "503383b8",
   "metadata": {},
   "outputs": [],
   "source": [
    "def getNumMemb(anime):\n",
    "    animeNumMembers = anime.find(text = 'Members:').next_element\n",
    "    return int(animeNumMembers.replace('n', '').replace(',', '').strip())"
   ]
  },
  {
   "cell_type": "code",
   "execution_count": 65,
   "id": "ed5d263c",
   "metadata": {},
   "outputs": [],
   "source": [
    "def getScore(anime):  \n",
    "    animeScore = anime.find(text = 'Score:').find_next('span').contents\n",
    "    return float(animeScore[0])"
   ]
  },
  {
   "cell_type": "code",
   "execution_count": 66,
   "id": "81549b93",
   "metadata": {},
   "outputs": [],
   "source": [
    "def getUsers(anime):\n",
    "    animeUsers = anime.find(text = 'Score:').find_next('span').find_next('span').contents\n",
    "    return int(animeUsers[0])"
   ]
  },
  {
   "cell_type": "code",
   "execution_count": 67,
   "id": "1d48c92c",
   "metadata": {},
   "outputs": [],
   "source": [
    "def getRank(anime):\n",
    "    animeRank = anime.find(text = 'Ranked:').next_element\n",
    "    return int(animeRank.replace('\\n', '').replace('#', '').strip())"
   ]
  },
  {
   "cell_type": "code",
   "execution_count": 68,
   "id": "ac6855c4",
   "metadata": {},
   "outputs": [],
   "source": [
    "def getPopularity(anime):\n",
    "    animePopularity = anime.find(text='Popularity:').next_element\n",
    "    return int(animePopularity.replace(\"\\n\",\"\").replace('#', '').strip())"
   ]
  },
  {
   "cell_type": "code",
   "execution_count": 69,
   "id": "90ba2134",
   "metadata": {},
   "outputs": [],
   "source": [
    "def getDescription(anime):\n",
    "    animeDescription = anime.find(text = 'Synopsis').find_next('p').text\n",
    "    return animeDescription.replace(\"\\n\",\"\")"
   ]
  },
  {
   "cell_type": "code",
   "execution_count": 70,
   "id": "992214a4",
   "metadata": {},
   "outputs": [],
   "source": [
    "def getRelated(anime):\n",
    "    table = anime.find(text = 'Related Anime')\n",
    "    animeRelated = []\n",
    "\n",
    "    if(table != None):    \n",
    "        table = table.find_next('table')\n",
    "        table = table.find_all('a')\n",
    "\n",
    "        for el in table:\n",
    "            animeRelated.append(el.text)\n",
    "                \n",
    "    return animeRelated"
   ]
  },
  {
   "cell_type": "code",
   "execution_count": 71,
   "id": "2f60b3df",
   "metadata": {},
   "outputs": [],
   "source": [
    "def getCharact(anime):\n",
    "    table = anime.find(text = 'Characters & Voice Actors').find_next('div')\n",
    "    table = table.find_all('table')\n",
    "\n",
    "    animeChar = []\n",
    "\n",
    "    for el in table:\n",
    "        people = el.find_all('h3')\n",
    "        for person in people:\n",
    "            animeChar.append(person.text)\n",
    "        \n",
    "    return animeChar"
   ]
  },
  {
   "cell_type": "code",
   "execution_count": 72,
   "id": "44195cff",
   "metadata": {},
   "outputs": [],
   "source": [
    "def getVoices(anime):\n",
    "    table = anime.find(text = 'Characters & Voice Actors').find_next('div')\n",
    "    table = table.find_all('h3')\n",
    "\n",
    "    animeVoices = []\n",
    "\n",
    "    for el in table:\n",
    "        people = el.find_next('table')\n",
    "        for person in people:\n",
    "            animeVoices.append(person.find('a').text)\n",
    "        \n",
    "    return animeVoices"
   ]
  },
  {
   "cell_type": "code",
   "execution_count": 73,
   "id": "41e37041",
   "metadata": {},
   "outputs": [],
   "source": [
    "def getStaff(anime):\n",
    "    \n",
    "    table = anime.find_all(text = 'Staff')[1].find_next(\"div\", {\"class\": \"detail-characters-list clearfix\"})\n",
    "    animeStaff = []\n",
    "    if(table != None):    \n",
    "        table = table.find_all(\"table\")\n",
    "        for el in table:\n",
    "            x = el.find_all(\"td\")[1]\n",
    "            person = [x.find(\"a\").text, x.find(\"small\").text]\n",
    "            animeStaff.append(person)\n",
    "    \n",
    "    return animeStaff"
   ]
  },
  {
   "cell_type": "code",
   "execution_count": 74,
   "id": "7786bf20",
   "metadata": {},
   "outputs": [],
   "source": [
    "pages = os.listdir('downloaded_Html')[1:]\n",
    "\n",
    "title = []\n",
    "typ = []\n",
    "numEpisode = []\n",
    "start = []\n",
    "end = []\n",
    "numMembers = []\n",
    "score = []\n",
    "users = []\n",
    "rank = []\n",
    "popularity = []\n",
    "synopsis = []\n",
    "related = []\n",
    "char = []\n",
    "voices = []\n",
    "staff = []"
   ]
  },
  {
   "cell_type": "code",
   "execution_count": 75,
   "id": "47866a32",
   "metadata": {},
   "outputs": [],
   "source": [
    "for page in pages:\n",
    "    htmls = os.listdir('downloaded_Html/{}'.format(page))\n",
    "    for i in range(1,1+len(htmls)):\n",
    "        f = open(\"downloaded_Html/{}/{}.html\".format(page,i), 'r', encoding=\"utf8\")\n",
    "        anime = bs(f, 'lxml')\n",
    "        \n",
    "        title.append(getTitle(anime))\n",
    "        typ.append(getType(anime))\n",
    "        numEpisode.append(getNumEpis(anime))\n",
    "        start.append(getStart(anime))\n",
    "        end.append(getEnd(anime))\n",
    "        numMembers.append(getNumMemb(anime))\n",
    "        score.append(getScore(anime))\n",
    "        users.append(getUsers(anime))\n",
    "        rank.append(getRank(anime))\n",
    "        popularity.append(getPopularity(anime))\n",
    "        synopsis.append(getDescription(anime))\n",
    "        related.append(getRelated(anime))\n",
    "        char.append(getCharact(anime))\n",
    "        voices.append(getVoices(anime))\n",
    "        staff.append(getStaff(anime))"
   ]
  },
  {
   "cell_type": "code",
   "execution_count": 76,
   "id": "c8100e51",
   "metadata": {},
   "outputs": [],
   "source": [
    "col = ['animeTitle', 'animeType', 'animeNumEpisode','releaseDate', 'endDate', 'animeNumMembers', 'animeScore', 'animeUsers', \n",
    "       'animeRank', 'animePopularity', 'animdeDescription', 'animeRelated', 'animeCharacters', 'animeVoices', 'animeStaff']\n",
    "\n",
    "types = {'animeTitle' : 'object', \n",
    "         'animeType' : 'object', \n",
    "         'animeNumEpisode' : 'int64',\n",
    "         'releaseDate' : 'datetime64', \n",
    "         'endDate' : 'datetime64', \n",
    "         'animeNumMembers' : 'int64', \n",
    "         'animeScore' : 'float64',\n",
    "         'animeUsers' : 'int64', \n",
    "         'animeRank' : 'int64',\n",
    "         'animePopularity' : 'int64',\n",
    "         'animdeDescription' : 'object',\n",
    "         'animeRelated' : 'object',\n",
    "         'animeCharacters' : 'object',\n",
    "         'animeVoices' : 'object',\n",
    "         'animeStaff' : 'object'}\n",
    "\n",
    "data = list(zip(title,typ,numEpisode,start,end,numMembers,score,users,rank,popularity,synopsis,related,char,voices,staff))\n",
    "\n",
    "df = pd.DataFrame(data, columns = col).astype(dtype = types)  "
   ]
  },
  {
   "cell_type": "code",
   "execution_count": 77,
   "id": "80194970",
   "metadata": {},
   "outputs": [],
   "source": [
    "def dataToTSV(page, df):\n",
    "    \n",
    "    subfolder = \"tsv_files/page_{}\".format(page)\n",
    "    os.makedirs(subfolder)\n",
    "    \n",
    "    for i in range(len(df)):\n",
    "        f = open(\"tsv_files/page_{}/anime_{}.tsv\".format(page, i+50*(page-1)), 'w', encoding=\"utf8\")\n",
    "        tsv = csv.writer(f, delimiter = '\\t')\n",
    "        tsv.writerow([x for x in df.columns])\n",
    "        tsv.writerow(x for x in df.iloc[i]) "
   ]
  }
 ],
 "metadata": {
  "kernelspec": {
   "display_name": "Python 3",
   "language": "python",
   "name": "python3"
  }
 },
 "nbformat": 4,
 "nbformat_minor": 5
}
