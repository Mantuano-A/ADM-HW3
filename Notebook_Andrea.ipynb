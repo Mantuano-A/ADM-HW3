{
 "cells": [
  {
   "cell_type": "markdown",
   "id": "010240fd",
   "metadata": {},
   "source": [
    "# 1. Data collection"
   ]
  },
  {
   "cell_type": "markdown",
   "id": "7dc83254",
   "metadata": {},
   "source": [
    "## 1.1 Get the list of animes"
   ]
  },
  {
   "cell_type": "code",
   "execution_count": 1,
   "id": "9eb5feca",
   "metadata": {},
   "outputs": [],
   "source": [
    "from bs4 import BeautifulSoup as bs\n",
    "import requests"
   ]
  },
  {
   "cell_type": "code",
   "execution_count": 2,
   "id": "068990a2",
   "metadata": {},
   "outputs": [],
   "source": [
    "def getUrls(start, stop): \n",
    "\n",
    "    urls = []\n",
    "\n",
    "    for i in range(start, stop):\n",
    "        url = 'https://myanimelist.net/topanime.php?limit='+str(i*50)\n",
    "        r = requests.get(url)\n",
    "        html_content = r.text\n",
    "        soup = bs(html_content, 'lxml')\n",
    "        links = soup.find_all('h3') \n",
    "\n",
    "        for anime in links[:-3]:\n",
    "            if anime.find('a'):\n",
    "                urls.append(anime.find('a')['href'])\n",
    "    return urls"
   ]
  },
  {
   "cell_type": "code",
   "execution_count": 3,
   "id": "7783b06b",
   "metadata": {},
   "outputs": [
    {
     "data": {
      "text/plain": [
       "<function TextIOWrapper.close()>"
      ]
     },
     "execution_count": 3,
     "metadata": {},
     "output_type": "execute_result"
    }
   ],
   "source": [
    "### PROVAAAAAA\n",
    "\n",
    "f = open(\"topAnime.txt\", 'w', encoding=\"utf8\")\n",
    "f.write('\\n'.join(getUrls(0,20)))\n",
    "f.close"
   ]
  },
  {
   "cell_type": "markdown",
   "id": "d0171931",
   "metadata": {},
   "source": [
    "## 1.2 Crawl animes"
   ]
  },
  {
   "cell_type": "code",
   "execution_count": 4,
   "id": "fb395965",
   "metadata": {},
   "outputs": [],
   "source": [
    "import os\n",
    "\n",
    "def saveHtml(page):\n",
    "#saving the HTML file of page 'page' in the corresponding folder\n",
    "\n",
    "    subfolder = \"downloaded_Html/page_{}\".format(page)\n",
    "    os.makedirs(subfolder)\n",
    "\n",
    "    f = open(\"topAnime.txt\", 'r', encoding=\"utf8\")\n",
    "    lines = f.readlines()[(page-1)*50:(page)*50]\n",
    "    lines = [line.rstrip() for line in lines]\n",
    "    f.close\n",
    "\n",
    "    i = 1+50*(page-1)\n",
    "    for link in lines:\n",
    "        html = requests.get(link)\n",
    "        file_name = '{}/{}.html'.format(subfolder, i)\n",
    "        g = open(file_name, 'w', encoding=\"utf8\")\n",
    "        g.write(html.text)\n",
    "        g.close\n",
    "        i += 1"
   ]
  },
  {
   "cell_type": "code",
   "execution_count": 5,
   "id": "ed28c47e",
   "metadata": {},
   "outputs": [],
   "source": [
    "#### PROVAAAAA\n",
    "\n",
    "saveHtml(1)"
   ]
  },
  {
   "cell_type": "markdown",
   "id": "ebdfa55b",
   "metadata": {},
   "source": [
    "## 1.3 Parse downloaded pages"
   ]
  },
  {
   "cell_type": "code",
   "execution_count": 308,
   "id": "a4bc6005",
   "metadata": {},
   "outputs": [],
   "source": [
    "def getTitle(anime):\n",
    "    return anime.strong.contents[0]"
   ]
  },
  {
   "cell_type": "code",
   "execution_count": 309,
   "id": "143d33da",
   "metadata": {},
   "outputs": [],
   "source": [
    "def getType(anime):\n",
    "    return anime.find(text = 'Type:').find_next('a').contents[0]"
   ]
  },
  {
   "cell_type": "code",
   "execution_count": 310,
   "id": "68cd7274",
   "metadata": {},
   "outputs": [],
   "source": [
    "def getNumEpis(anime):\n",
    "    return int(anime.find(text = 'Episodes:').next_element.strip())"
   ]
  },
  {
   "cell_type": "code",
   "execution_count": 311,
   "id": "aed5b7ff",
   "metadata": {},
   "outputs": [],
   "source": [
    "def getStart(anime):\n",
    "    date = anime.find(text = 'Aired:').next_element.strip()\n",
    "    if len(date)>15:\n",
    "        return dt.strptime(date.split(\" to \")[0], '%b %d, %Y' )\n",
    "    else:\n",
    "        return dt.strptime(date, '%b %d, %Y' )"
   ]
  },
  {
   "cell_type": "code",
   "execution_count": 312,
   "id": "1fa3778f",
   "metadata": {},
   "outputs": [],
   "source": [
    "def getEnd(anime):\n",
    "    date = anime.find(text = 'Aired:').next_element.strip()\n",
    "    if len(date)>15:\n",
    "        return dt.strptime(date.split(\" to \")[1], '%b %d, %Y' )\n",
    "    else:\n",
    "        return pd.to_datetime(np.NaN, errors='coerce')"
   ]
  },
  {
   "cell_type": "code",
   "execution_count": 313,
   "id": "dd338563",
   "metadata": {},
   "outputs": [],
   "source": [
    "def getNumMemb(anime):\n",
    "    animeNumMembers = anime.find(text = 'Members:').next_element\n",
    "    return int(animeNumMembers.replace('n', '').replace(',', '').strip())"
   ]
  },
  {
   "cell_type": "code",
   "execution_count": 314,
   "id": "aec5290b",
   "metadata": {},
   "outputs": [],
   "source": [
    "def getScore(anime):  \n",
    "    animeScore = anime.find(text = 'Score:').find_next('span').contents\n",
    "    return float(animeScore[0])"
   ]
  },
  {
   "cell_type": "code",
   "execution_count": 315,
   "id": "f171840a",
   "metadata": {},
   "outputs": [],
   "source": [
    "def getUsers(anime):\n",
    "    animeUsers = anime.find(text = 'Score:').find_next('span').find_next('span').contents\n",
    "    return int(animeUsers[0])"
   ]
  },
  {
   "cell_type": "code",
   "execution_count": 316,
   "id": "b829f41e",
   "metadata": {},
   "outputs": [],
   "source": [
    "def getRank(anime):\n",
    "    animeRank = anime.find(text = 'Ranked:').next_element\n",
    "    return int(animeRank.replace('\\n', '').replace('#', '').strip())"
   ]
  },
  {
   "cell_type": "code",
   "execution_count": 317,
   "id": "2c3228ac",
   "metadata": {},
   "outputs": [],
   "source": [
    "def getPopularity(anime):\n",
    "    animePopularity = anime.find(text='Popularity:').next_element\n",
    "    return int(animePopularity.replace(\"\\n\",\"\").replace('#', '').strip())"
   ]
  },
  {
   "cell_type": "code",
   "execution_count": 318,
   "id": "4360df2a",
   "metadata": {},
   "outputs": [],
   "source": [
    "def getDescription(anime):\n",
    "    animeDescription = anime.find(text = 'Synopsis').find_next('p').text\n",
    "    return animeDescription.replace(\"\\n\",\"\")"
   ]
  },
  {
   "cell_type": "code",
   "execution_count": 319,
   "id": "6e64eae3",
   "metadata": {},
   "outputs": [],
   "source": [
    "def getRelated(anime):\n",
    "    table = anime.find(text = 'Related Anime').find_next('table')\n",
    "    table = table.find_all('a')\n",
    "    animeRelated = []\n",
    "\n",
    "    for el in table:\n",
    "        animeRelated.append(el.text)\n",
    "                \n",
    "    return animeRelated"
   ]
  },
  {
   "cell_type": "code",
   "execution_count": 320,
   "id": "6897072e",
   "metadata": {},
   "outputs": [],
   "source": [
    "def getCharact(anime):\n",
    "    table = anime.find(text = 'Characters & Voice Actors').find_next('div')\n",
    "    table = table.find_all('table')\n",
    "\n",
    "    animeChar = []\n",
    "\n",
    "    for el in table:\n",
    "        people = el.find_all('h3')\n",
    "        for person in people:\n",
    "            animeChar.append(person.text)\n",
    "        \n",
    "    return animeChar"
   ]
  },
  {
   "cell_type": "code",
   "execution_count": 321,
   "id": "82681c7b",
   "metadata": {},
   "outputs": [],
   "source": [
    "def getVoices(anime):\n",
    "    table = anime.find(text = 'Characters & Voice Actors').find_next('div')\n",
    "    table = table.find_all('h3')\n",
    "\n",
    "    animeVoices = []\n",
    "\n",
    "    for el in table:\n",
    "        people = el.find_next('table')\n",
    "        for person in people:\n",
    "            animeVoices.append(person.find('a').text)\n",
    "        \n",
    "    return animeVoices"
   ]
  },
  {
   "cell_type": "code",
   "execution_count": 372,
   "id": "45f88f38",
   "metadata": {},
   "outputs": [],
   "source": [
    "def getStaff(anime):\n",
    "    table = anime.find_all(\"div\", {\"class\": \"detail-characters-list clearfix\"})\n",
    "    if len(table)>1:\n",
    "        table = table[1]\n",
    "    table = table.find_all(\"table\")\n",
    "\n",
    "    animeStaff = []\n",
    "    for el in table:\n",
    "        x = el.find_all(\"td\")[1]\n",
    "        person = [x.find(\"a\").text, x.find(\"small\").text]\n",
    "        animeStaff.append(person)\n",
    "    \n",
    "    return animeStaff"
   ]
  },
  {
   "cell_type": "code",
   "execution_count": 384,
   "id": "e5c00cc8",
   "metadata": {},
   "outputs": [],
   "source": [
    "from datetime import datetime as dt\n",
    "import numpy as np\n",
    "\n",
    "pages = os.listdir('downloaded_Html')[1:]\n",
    "\n",
    "title = []\n",
    "typ = []\n",
    "numEpisode = []\n",
    "start = []\n",
    "end = []\n",
    "numMembers = []\n",
    "score = []\n",
    "users = []\n",
    "rank = []\n",
    "popularity = []\n",
    "synopsis = []\n",
    "related = []\n",
    "char = []\n",
    "voices = []\n",
    "staff  = []"
   ]
  },
  {
   "cell_type": "code",
   "execution_count": 385,
   "id": "61304b5d",
   "metadata": {},
   "outputs": [
    {
     "name": "stdout",
     "output_type": "stream",
     "text": [
      "1\n",
      "2\n",
      "3\n",
      "4\n"
     ]
    }
   ],
   "source": [
    "for page in pages:\n",
    "    htmls = os.listdir('downloaded_Html/{}'.format(page))\n",
    "    for i in range(1,1+len(htmls)):\n",
    "        f = open(\"downloaded_Html/{}/{}.html\".format(page,i), 'r', encoding=\"utf8\")\n",
    "        anime = bs(f, 'lxml')\n",
    "        \n",
    "        title.append(getTitle(anime))\n",
    "        typ.append(getType(anime))\n",
    "        numEpisode.append(getNumEpis(anime))\n",
    "        start.append(getStart(anime))\n",
    "        end.append(getEnd(anime))\n",
    "        numMembers.append(getNumMemb(anime))\n",
    "        score.append(getScore(anime))\n",
    "        users.append(getUsers(anime))\n",
    "        rank.append(getRank(anime))\n",
    "        popularity.append(getPopularity(anime))\n",
    "        synopsis.append(getDescription(anime))\n",
    "        related.append(getRelated(anime))\n",
    "        char.append(getCharact(anime))\n",
    "        voices.append(getVoices(anime))\n",
    "        staff.append(getStaff(anime))"
   ]
  },
  {
   "cell_type": "code",
   "execution_count": 386,
   "id": "ba73b5c2",
   "metadata": {},
   "outputs": [
    {
     "data": {
      "text/plain": [
       "[('Fullmetal Alchemist: Brotherhood',\n",
       "  'TV',\n",
       "  64,\n",
       "  datetime.datetime(2009, 4, 5, 0, 0),\n",
       "  datetime.datetime(2010, 7, 4, 0, 0),\n",
       "  2677691,\n",
       "  9.16,\n",
       "  1629051,\n",
       "  1,\n",
       "  3,\n",
       "  'After a horrific alchemy experiment goes wrong in the Elric household, brothers Edward and Alphonse are left in a catastrophic new reality. Ignoring the alchemical principle banning human transmutation, the boys attempted to bring their recently deceased mother back to life. Instead, they suffered brutal personal loss: Alphonse\\'s body disintegrated while Edward lost a leg and then sacrificed an arm to keep Alphonse\\'s soul in the physical realm by binding it to a hulking suit of armor.The brothers are rescued by their neighbor Pinako Rockbell and her granddaughter Winry. Known as a bio-mechanical engineering prodigy, Winry creates prosthetic limbs for Edward by utilizing \"automail,\" a tough, versatile metal used in robots and combat armor. After years of training, the Elric brothers set off on a quest to restore their bodies by locating the Philosopher\\'s Stone—a powerful gem that allows an alchemist to defy the traditional laws of Equivalent Exchange.As Edward becomes an infamous alchemist and gains the nickname \"Fullmetal,\" the boys\\' journey embroils them in a growing conspiracy that threatens the fate of the world.[Written by MAL Rewrite]',\n",
       "  ['Fullmetal Alchemist',\n",
       "   'Fullmetal Alchemist',\n",
       "   'Fullmetal Alchemist: Brotherhood Specials',\n",
       "   'Fullmetal Alchemist: The Sacred Star of Milos',\n",
       "   'Fullmetal Alchemist: Brotherhood - 4-Koma Theater'],\n",
       "  ['Elric, Edward',\n",
       "   'Elric, Alphonse',\n",
       "   'Mustang, Roy',\n",
       "   'Hughes, Maes',\n",
       "   'Greed',\n",
       "   'Hawkeye, Riza',\n",
       "   'Yao, Ling',\n",
       "   'Armstrong, Alex Louis',\n",
       "   'Rockbell, Winry',\n",
       "   'Armstrong, Olivier Mira'],\n",
       "  ['Park, Romi',\n",
       "   'Kugimiya, Rie',\n",
       "   'Miki, Shinichiro',\n",
       "   'Fujiwara, Keiji',\n",
       "   'Nakamura, Yuuichi',\n",
       "   'Orikasa, Fumiko',\n",
       "   'Miyano, Mamoru',\n",
       "   'Utsumi, Kenji',\n",
       "   'Takamoto, Megumi',\n",
       "   'Soumi, Youko'],\n",
       "  [['Cook, Justin', 'Producer'],\n",
       "   ['Yonai, Noritomo', 'Producer'],\n",
       "   ['Irie, Yasuhiro', 'Director, Episode Director, Storyboard'],\n",
       "   ['Mima, Masafumi', 'Sound Director']]),\n",
       " ('Gintama°',\n",
       "  'TV',\n",
       "  51,\n",
       "  datetime.datetime(2015, 4, 8, 0, 0),\n",
       "  datetime.datetime(2016, 3, 30, 0, 0),\n",
       "  484215,\n",
       "  9.09,\n",
       "  169476,\n",
       "  2,\n",
       "  337,\n",
       "  \"Gintoki, Shinpachi, and Kagura return as the fun-loving but broke members of the Yorozuya team! Living in an alternate-reality Edo, where swords are prohibited and alien overlords have conquered Japan, they try to thrive on doing whatever work they can get their hands on. However, Shinpachi and Kagura still haven't been paid... Does Gin-chan really spend all that cash playing pachinko?Meanwhile, when Gintoki drunkenly staggers home one night, an alien spaceship crashes nearby. A fatally injured crew member emerges from the ship and gives Gintoki a strange, clock-shaped device, warning him that it is incredibly powerful and must be safeguarded. Mistaking it for his alarm clock, Gintoki proceeds to smash the device the next morning and suddenly discovers that the world outside his apartment has come to a standstill. With Kagura and Shinpachi at his side, he sets off to get the device fixed; though, as usual, nothing is ever that simple for the Yorozuya team.Filled with tongue-in-cheek humor and moments of heartfelt emotion, Gintama's fourth season finds Gintoki and his friends facing both their most hilarious misadventures and most dangerous crises yet.[Written by MAL Rewrite]\",\n",
       "  ['Gintama',\n",
       "   'Gintama Movie 2: Kanketsu-hen - Yorozuya yo Eien Nare',\n",
       "   \"Gintama': Enchousen\",\n",
       "   'Gintama°: Umai-mono wa Atomawashi ni Suru to Yokodorisareru kara Yappari Saki ni Kue',\n",
       "   'Gintama°: Aizome Kaori-hen',\n",
       "   'Gintama.'],\n",
       "  ['Sakata, Gintoki',\n",
       "   'Kagura',\n",
       "   'Shimura, Shinpachi',\n",
       "   'Katsura, Kotarou',\n",
       "   'Hijikata, Toushirou',\n",
       "   'Okita, Sougo',\n",
       "   'Takasugi, Shinsuke',\n",
       "   'Tsukuyo',\n",
       "   'Hasegawa, Taizou',\n",
       "   'Kamui'],\n",
       "  ['Sugita, Tomokazu',\n",
       "   'Kugimiya, Rie',\n",
       "   'Sakaguchi, Daisuke',\n",
       "   'Ishida, Akira',\n",
       "   'Nakai, Kazuya',\n",
       "   'Suzumura, Kenichi',\n",
       "   'Koyasu, Takehito',\n",
       "   'Kaida, Yuuko',\n",
       "   'Tachiki, Fumihiko',\n",
       "   'Hino, Satoshi'],\n",
       "  [['Fujita, Youichi', 'Director, Storyboard, Planning'],\n",
       "   ['Miyawaki, Chizuru', 'Director, Storyboard, Key Animation'],\n",
       "   ['Takamatsu, Shinji', 'Sound Director'],\n",
       "   ['Yoshimura, Ai', 'Episode Director']]),\n",
       " ('Shingeki no Kyojin Season 3 Part 2',\n",
       "  'TV',\n",
       "  10,\n",
       "  datetime.datetime(2019, 4, 29, 0, 0),\n",
       "  datetime.datetime(2019, 7, 1, 0, 0),\n",
       "  1598024,\n",
       "  9.09,\n",
       "  1087519,\n",
       "  3,\n",
       "  33,\n",
       "  'Seeking to restore humanity\\'s diminishing hope, the Survey Corps embark on a mission to retake Wall Maria, where the battle against the merciless \"Titans\" takes the stage once again.Returning to the tattered Shiganshina District that was once his home, Eren Yeager and the Corps find the town oddly unoccupied by Titans. Even after the outer gate is plugged, they strangely encounter no opposition. The mission progresses smoothly until Armin Arlert, highly suspicious of the enemy\\'s absence, discovers distressing signs of a potential scheme against them. Shingeki no Kyojin Season 3 Part 2 follows Eren as he vows to take back everything that was once his. Alongside him, the Survey Corps strive—through countless sacrifices—to carve a path towards victory and uncover the secrets locked away in the Yeager family\\'s basement.[Written by MAL Rewrite]',\n",
       "  ['Shingeki no Kyojin',\n",
       "   'Shingeki no Kyojin Season 3',\n",
       "   'Shingeki no Kyojin: The Final Season',\n",
       "   'Shingeki no Kyojin: Chronicle'],\n",
       "  ['Levi',\n",
       "   'Yeager, Eren',\n",
       "   'Ackerman, Mikasa',\n",
       "   'Arlert, Armin',\n",
       "   'Smith, Erwin',\n",
       "   'Zoë, Hange',\n",
       "   'Blouse, Sasha',\n",
       "   'Braun, Reiner',\n",
       "   'Kirstein, Jean',\n",
       "   'Leonhart, Annie'],\n",
       "  ['Kamiya, Hiroshi',\n",
       "   'Kaji, Yuki',\n",
       "   'Ishikawa, Yui',\n",
       "   'Inoue, Marina',\n",
       "   'Ono, Daisuke',\n",
       "   'Park, Romi',\n",
       "   'Kobayashi, Yuu',\n",
       "   'Hosoya, Yoshimasa',\n",
       "   'Taniyama, Kishou',\n",
       "   'Shimamura, Yuu'],\n",
       "  [['Yabuta, Shuuhei', 'Producer'],\n",
       "   ['Wada, Jouji', 'Producer'],\n",
       "   ['Morishita, Katsuji', 'Producer, Planning'],\n",
       "   ['Nakatake, Tetsuya', 'Producer']]),\n",
       " ('Steins;Gate',\n",
       "  'TV',\n",
       "  24,\n",
       "  datetime.datetime(2011, 4, 6, 0, 0),\n",
       "  datetime.datetime(2011, 9, 14, 0, 0),\n",
       "  2092233,\n",
       "  9.09,\n",
       "  1115839,\n",
       "  4,\n",
       "  11,\n",
       "  'The self-proclaimed mad scientist Rintarou Okabe rents out a room in a rickety old building in Akihabara, where he indulges himself in his hobby of inventing prospective \"future gadgets\" with fellow lab members: Mayuri Shiina, his air-headed childhood friend, and Hashida Itaru, a perverted hacker nicknamed \"Daru.\" The three pass the time by tinkering with their most promising contraption yet, a machine dubbed the \"Phone Microwave,\" which performs the strange function of morphing bananas into piles of green gel.Though miraculous in itself, the phenomenon doesn\\'t provide anything concrete in Okabe\\'s search for a scientific breakthrough; that is, until the lab members are spurred into action by a string of mysterious happenings before stumbling upon an unexpected success—the Phone Microwave can send emails to the past, altering the flow of history.Adapted from the critically acclaimed visual novel by 5pb. and Nitroplus, Steins;Gate takes Okabe through the depths of scientific theory and practicality. Forced across the diverging threads of past and present, Okabe must shoulder the burdens that come with holding the key to the realm of time.[Written by MAL Rewrite]',\n",
       "  ['Steins;Gate',\n",
       "   'ChäoS;HEAd',\n",
       "   'Robotics;Notes',\n",
       "   'ChäoS;Child',\n",
       "   'Occultic;Nine',\n",
       "   'Steins;Gate: Oukoubakko no Poriomania',\n",
       "   'Steins;Gate: Soumei Eichi no Cognitive Computing',\n",
       "   'Steins;Gate: Kyoukaimenjou no Missing Link - Divide By Zero'],\n",
       "  ['Okabe, Rintarou',\n",
       "   'Makise, Kurisu',\n",
       "   'Shiina, Mayuri',\n",
       "   'Hashida, Itaru',\n",
       "   'Amane, Suzuha',\n",
       "   'Urushibara, Ruka',\n",
       "   'Akiha, Rumiho',\n",
       "   'Kiryuu, Moeka',\n",
       "   'Tennouji, Yuugo',\n",
       "   'Tennouji, Nae'],\n",
       "  ['Miyano, Mamoru',\n",
       "   'Imai, Asami',\n",
       "   'Hanazawa, Kana',\n",
       "   'Seki, Tomokazu',\n",
       "   'Tamura, Yukari',\n",
       "   'Kobayashi, Yuu',\n",
       "   'Momoi, Haruko',\n",
       "   'Gotou, Saori',\n",
       "   'Terasoma, Masaki',\n",
       "   'Yamamoto, Ayano'],\n",
       "  [['Iwasa, Gaku', 'Producer'],\n",
       "   ['Yasuda, Takeshi', 'Producer, Planning'],\n",
       "   ['Hamasaki, Hiroshi',\n",
       "    'Director, Episode Director, Storyboard, Key Animation'],\n",
       "   ['Satou, Takuya', 'Director, Episode Director, Storyboard']])]"
      ]
     },
     "execution_count": 386,
     "metadata": {},
     "output_type": "execute_result"
    }
   ],
   "source": [
    "import pandas as pd \n",
    "\n",
    "col = ['animeTitle', 'animeType', 'animeNumEpisode','releaseDate', 'endDate', 'animeNumMembers', 'animeScore', 'animeUsers', \n",
    "       'animeRank', 'animePopularity', 'animdeDescription', 'animeRelated', 'animeCharacters', 'animeVoices', 'animeStaff']\n",
    "\n",
    "types = {'animeTitle' : 'object', \n",
    "         'animeType' : 'object', \n",
    "         'animeNumEpisode' : 'int64',\n",
    "         'releaseDate' : 'datetime64', \n",
    "         'endDate' : 'datetime64', \n",
    "         'animeNumMembers' : 'int64', \n",
    "         'animeScore' : 'float64',\n",
    "         'animeUsers' : 'int64', \n",
    "         'animeRank' : 'int64',\n",
    "         'animePopularity' : 'int64',\n",
    "         'animdeDescription' : 'object',\n",
    "         'animeRelated' : 'object',\n",
    "         'animeCharacters' : 'object',\n",
    "         'animeVoices' : 'object',\n",
    "         'animeStaff' : 'object'}\n",
    "\n",
    "data = list(zip(title,typ,numEpisode,start,end,numMembers,score,users,rank,popularity,synopsis,related,char,voices,staff))\n",
    "\n",
    "df = pd.DataFrame(data, columns = col).astype(dtype = types)  "
   ]
  },
  {
   "cell_type": "code",
   "execution_count": 368,
   "id": "1301c840",
   "metadata": {},
   "outputs": [
    {
     "ename": "SyntaxError",
     "evalue": "invalid syntax (<ipython-input-368-2fc876983959>, line 1)",
     "output_type": "error",
     "traceback": [
      "\u001b[1;36m  File \u001b[1;32m\"<ipython-input-368-2fc876983959>\"\u001b[1;36m, line \u001b[1;32m1\u001b[0m\n\u001b[1;33m    def dataframeToTSV()\u001b[0m\n\u001b[1;37m                        ^\u001b[0m\n\u001b[1;31mSyntaxError\u001b[0m\u001b[1;31m:\u001b[0m invalid syntax\n"
     ]
    }
   ],
   "source": [
    "def dataframeToTSV()"
   ]
  }
 ],
 "metadata": {
  "kernelspec": {
   "display_name": "Python 3",
   "language": "python",
   "name": "python3"
  },
  "language_info": {
   "codemirror_mode": {
    "name": "ipython",
    "version": 3
   },
   "file_extension": ".py",
   "mimetype": "text/x-python",
   "name": "python",
   "nbconvert_exporter": "python",
   "pygments_lexer": "ipython3",
   "version": "3.8.8"
  }
 },
 "nbformat": 4,
 "nbformat_minor": 5
}
