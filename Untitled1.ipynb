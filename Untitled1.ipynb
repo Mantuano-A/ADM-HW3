{
 "cells": [
  {
   "cell_type": "code",
   "execution_count": 4,
   "id": "cb6d2e3b-72bb-4b1c-a4b0-6b43abe5f59a",
   "metadata": {},
   "outputs": [],
   "source": [
    "import numpy as np\n",
    "import pandas as pd\n",
    "from bs4 import BeautifulSoup as bs\n",
    "import requests\n",
    "import nltk\n",
    "from nltk.sentiment import SentimentIntensityAnalyzer\n",
    "import matplotlib.pyplot as plt \n",
    "import os"
   ]
  },
  {
   "cell_type": "markdown",
   "id": "a220b4df-38c6-49ee-9cb0-a69b60c2d31b",
   "metadata": {},
   "source": [
    "# 4. BONUS: Understanding the anime's reviews"
   ]
  },
  {
   "cell_type": "markdown",
   "id": "d706330f-4472-47dd-a9bb-94b20f437f07",
   "metadata": {},
   "source": [
    "* You need to extract one additional feature taken from the Reviews section. It will be composed of the 3 first lines of each review (approximately 500 characters). Besides, you should take into account only the first 5 reviews for each anime."
   ]
  },
  {
   "cell_type": "code",
   "execution_count": 5,
   "id": "7d2021f8-2797-4b0a-9c86-fd4d3f8cf7be",
   "metadata": {},
   "outputs": [],
   "source": [
    "page_reviews = sorted(a, key = lambda page : int(page.split(\"_\")[1]))"
   ]
  },
  {
   "cell_type": "code",
   "execution_count": 210,
   "id": "8982ac16-5632-4457-aea6-4f1506206f73",
   "metadata": {
    "tags": []
   },
   "outputs": [],
   "source": [
    "#EXTRACTION OF THE FIRST 5 REVIEWS FOR EACH ANIME\n",
    "\n",
    "recs = []\n",
    "for page in page_reviews:\n",
    "    htmls = os.listdir('downloaded_Reviews/{}'.format(page))\n",
    "    for i in range(1,1+len(htmls)):\n",
    "        f = open(\"downloaded_Reviews/{}/{}.html\".format(page,50*(int(page.split(\"_\")[1])-1)+i), 'r', encoding=\"utf8\")\n",
    "        anime = bs(f, 'lxml')\n",
    "        reviews = anime.find_all(\"div\", {\"class\": \"spaceit textReadability word-break pt8 mt8\"})[:5]\n",
    "        if len(reviews)==5:\n",
    "            for j in range(5):\n",
    "             #If the anime has at least 5 reviews, we append them\n",
    "                #[60:860] because we are removing the firs 60 repeated special characters (e.g. \\n...) for every review\n",
    "                # and we are bounding the maximum number of characters at more than 500 \n",
    "                rev = reviews[j].text.replace(\"\\n\",\"\").replace(\"...\",\"\").replace(\"..\",\"\").replace(\"\\r\", \"\")[60:800].strip().split('.')[0:3]\n",
    "                rev = '. '.join(rev)\n",
    "                recs.append(rev)\n",
    "        else:   #if the anime has less than 5 reviews, we take all its reviews and fill the gap with the 'DELETE ME' string\n",
    "            for k in range(len(reviews)):\n",
    "                rev = reviews[k].text.replace(\"\\n\",\"\").replace(\"...\",\"\").replace(\"..\",\"\").replace(\"\\r\", \"\")[60:800].strip().split('.')[0:3]\n",
    "                rev = '. '.join(rev)\n",
    "                recs.append(rev)    \n",
    "            for _ in range(5-len(reviews)):\n",
    "                recs.append('DELETE ME')\n"
   ]
  },
  {
   "cell_type": "code",
   "execution_count": 211,
   "id": "f216e693-173c-4e85-bcc7-2e282ec11b23",
   "metadata": {},
   "outputs": [],
   "source": [
    "#EXTRACTING THE PERCENTAGES OF THE SEEN EPISODES\n",
    "percents_episodes = []\n",
    "\n",
    "for page in page_reviews: \n",
    "    htmls = os.listdir('downloaded_Reviews/{}'.format(page))\n",
    "    for i in range(1,1+len(htmls)):\n",
    "        f = open(\"downloaded_Reviews/{}/{}.html\".format(page,50*(int(page.split(\"_\")[1])-1)+i), 'r', encoding=\"utf8\")\n",
    "        anime = bs(f, 'lxml')\n",
    "        reviews = anime.find_all(\"div\", {\"class\": \"lightLink spaceit\"})[0:10]\n",
    "        \n",
    "        try:\n",
    "            for j in range(10):\n",
    "                if j%2==0: #we can take the frequencies of episodes only from even positions of num_episodes\n",
    "                    percents_episodes.append(reviews[j].contents)\n",
    "                    \n",
    "        except:\n",
    "            for o in range((10-len(reviews))//2):\n",
    "                percents_episodes.append(np.nan)\n",
    "                 \n",
    "for k in range(len(percents_episodes)):\n",
    "    try:\n",
    "        percents_episodes[k] = eval(str(percents_episodes[k]).strip().replace('\\\\n                  ', '').replace(' episodes seen\\\\n              ',''). replace(' of ', '/').replace(\"[\",'').replace(']','').replace(\"'\", \"\"))\n",
    "    except:\n",
    "        percents_episodes[k] = np.nan #If the frequency of episodes is absent, we fill the gap with a NaN value\n",
    "            \n",
    "            "
   ]
  },
  {
   "cell_type": "code",
   "execution_count": 199,
   "id": "bb90cf9f-2c3b-4c18-a23f-d6797110c3b7",
   "metadata": {},
   "outputs": [],
   "source": [
    "#Cleaning the percentages: in some pages the relative frequency is over 1.0, so we change them with NaN\n",
    "percents_episodes = [np.nan if x>1.0 else x for x in percents_episodes]"
   ]
  },
  {
   "cell_type": "code",
   "execution_count": 217,
   "id": "7dcbf12b-89e8-414b-8678-30a2dd0e8ade",
   "metadata": {},
   "outputs": [],
   "source": [
    "#EXTRACTING ANIME TYPE\n",
    "\n",
    "typeAnime = []\n",
    "for page in page_reviews:\n",
    "    htmls = os.listdir('downloaded_Reviews/{}'.format(page))\n",
    "    for i in range(1,1+len(htmls)):\n",
    "        f = open(\"downloaded_Reviews/{}/{}.html\".format(page,50*(int(page.split(\"_\")[1])-1)+i), 'r', encoding=\"utf8\")\n",
    "        anime = bs(f, 'lxml')\n",
    "        typeAnime.append(anime.find(text = 'Type:').find_next('a').contents[0])\n",
    "        typeAnime.append(anime.find(text = 'Type:').find_next('a').contents[0])\n",
    "        typeAnime.append(anime.find(text = 'Type:').find_next('a').contents[0])\n",
    "        typeAnime.append(anime.find(text = 'Type:').find_next('a').contents[0])\n",
    "        typeAnime.append(anime.find(text = 'Type:').find_next('a').contents[0])\n",
    "        #for every 5 reviews, we have to append 5 times the anime type in the dataframe.\n",
    "        \n",
    "        f.close()"
   ]
  },
  {
   "cell_type": "markdown",
   "id": "d3969271-ce29-40f8-8824-eb82f0c09927",
   "metadata": {},
   "source": [
    "### Sentiment Analysis\n",
    "For this part we used the SentimentIntensityAnalyzer tool from nltk.\n",
    "\n",
    "From this tool, we can take the 'compound' variable from every review. It will return the sentiment of every review: this value goes from -1 to +1 and represents the negative/neutral/positive feeling of any review."
   ]
  },
  {
   "cell_type": "code",
   "execution_count": 214,
   "id": "9c50e6d6-01d2-4071-a8cb-9fc30bebd94f",
   "metadata": {},
   "outputs": [],
   "source": [
    "#EXTRACTING THE SENTIMENTS FOR EACH REVIEW\n",
    "\n",
    "sentiments = []\n",
    "sia = SentimentIntensityAnalyzer() \n",
    "\n",
    "for j in range(len(recs)):\n",
    "    sentiments.append(sia.polarity_scores(recs[j])['compound'])"
   ]
  },
  {
   "cell_type": "code",
   "execution_count": 218,
   "id": "5e4f5df3-27fa-47c0-adcb-1fd44e3dc40c",
   "metadata": {},
   "outputs": [],
   "source": [
    "#CREATION OF THE DATAFRAME\n",
    "\n",
    "SentAn = pd.DataFrame(columns=['Review', 'Sentiment', 'Episode Percentage', 'Anime Type'])\n",
    "\n",
    "for i in range(len(typeAnime)):\n",
    "    SentAn.loc[i] =[recs[i], sentiments[i], percents_episodes[i], typeAnime[i]]"
   ]
  },
  {
   "cell_type": "code",
   "execution_count": 234,
   "id": "aaa8bfed-e63b-42a4-ad05-78911e5fd28c",
   "metadata": {},
   "outputs": [],
   "source": [
    "#CLEANING THE DATAFRAME: we remove the outliers, the rows without review and/or episode percentages.\n",
    "#An outlier is any value outside the interval [0,1] for the Episode Percentage, and [-1,1] for Sentiment\n",
    "\n",
    "SentAn = SentAn.drop(SentAn[SentAn['Review'] == 'DELETE ME'].index)\n",
    "SentAn = SentAn.drop(SentAn[np.isnan(SentAn['Episode Percentage'])].index)\n",
    "SentAn = SentAn.drop(SentAn[(SentAn['Episode Percentage'])>1.0].index)"
   ]
  },
  {
   "cell_type": "code",
   "execution_count": 242,
   "id": "b6686f7f-b827-4c1d-9dac-bc4c4bf0d527",
   "metadata": {},
   "outputs": [
    {
     "data": {
      "text/html": [
       "<div>\n",
       "<style scoped>\n",
       "    .dataframe tbody tr th:only-of-type {\n",
       "        vertical-align: middle;\n",
       "    }\n",
       "\n",
       "    .dataframe tbody tr th {\n",
       "        vertical-align: top;\n",
       "    }\n",
       "\n",
       "    .dataframe thead th {\n",
       "        text-align: right;\n",
       "    }\n",
       "</style>\n",
       "<table border=\"1\" class=\"dataframe\">\n",
       "  <thead>\n",
       "    <tr style=\"text-align: right;\">\n",
       "      <th></th>\n",
       "      <th>Review</th>\n",
       "      <th>Sentiment</th>\n",
       "      <th>Episode Percentage</th>\n",
       "      <th>Anime Type</th>\n",
       "    </tr>\n",
       "  </thead>\n",
       "  <tbody>\n",
       "    <tr>\n",
       "      <th>0</th>\n",
       "      <td>First of all, I have seen the original FMA and...</td>\n",
       "      <td>0.5558</td>\n",
       "      <td>1.0</td>\n",
       "      <td>TV</td>\n",
       "    </tr>\n",
       "    <tr>\n",
       "      <th>1</th>\n",
       "      <td>Fullmetal Alchemist: Brotherhood gets an immen...</td>\n",
       "      <td>0.9313</td>\n",
       "      <td>1.0</td>\n",
       "      <td>TV</td>\n",
       "    </tr>\n",
       "    <tr>\n",
       "      <th>2</th>\n",
       "      <td>Adaptations have long been a thorn in the side...</td>\n",
       "      <td>0.5499</td>\n",
       "      <td>1.0</td>\n",
       "      <td>TV</td>\n",
       "    </tr>\n",
       "    <tr>\n",
       "      <th>3</th>\n",
       "      <td>Overview:FMA Brotherhood is an anime that need...</td>\n",
       "      <td>0.2230</td>\n",
       "      <td>1.0</td>\n",
       "      <td>TV</td>\n",
       "    </tr>\n",
       "    <tr>\n",
       "      <th>4</th>\n",
       "      <td>Since I couldn't find any legitimate objective...</td>\n",
       "      <td>-0.8430</td>\n",
       "      <td>1.0</td>\n",
       "      <td>TV</td>\n",
       "    </tr>\n",
       "    <tr>\n",
       "      <th>5</th>\n",
       "      <td>Have you ever wanted to laugh so hard that it ...</td>\n",
       "      <td>0.9646</td>\n",
       "      <td>1.0</td>\n",
       "      <td>TV</td>\n",
       "    </tr>\n",
       "    <tr>\n",
       "      <th>6</th>\n",
       "      <td>Finally the season has ended and phew, what a ...</td>\n",
       "      <td>0.3612</td>\n",
       "      <td>1.0</td>\n",
       "      <td>TV</td>\n",
       "    </tr>\n",
       "    <tr>\n",
       "      <th>7</th>\n",
       "      <td>EDIT: This was a review written for April Fool...</td>\n",
       "      <td>0.9571</td>\n",
       "      <td>1.0</td>\n",
       "      <td>TV</td>\n",
       "    </tr>\n",
       "    <tr>\n",
       "      <th>8</th>\n",
       "      <td>When it comes to sequels, It is often unclear ...</td>\n",
       "      <td>0.9633</td>\n",
       "      <td>1.0</td>\n",
       "      <td>TV</td>\n",
       "    </tr>\n",
       "    <tr>\n",
       "      <th>9</th>\n",
       "      <td>Gintama is a hot mess.  OH PLEASEAvoid this an...</td>\n",
       "      <td>0.0000</td>\n",
       "      <td>1.0</td>\n",
       "      <td>TV</td>\n",
       "    </tr>\n",
       "  </tbody>\n",
       "</table>\n",
       "</div>"
      ],
      "text/plain": [
       "                                              Review  Sentiment  \\\n",
       "0  First of all, I have seen the original FMA and...     0.5558   \n",
       "1  Fullmetal Alchemist: Brotherhood gets an immen...     0.9313   \n",
       "2  Adaptations have long been a thorn in the side...     0.5499   \n",
       "3  Overview:FMA Brotherhood is an anime that need...     0.2230   \n",
       "4  Since I couldn't find any legitimate objective...    -0.8430   \n",
       "5  Have you ever wanted to laugh so hard that it ...     0.9646   \n",
       "6  Finally the season has ended and phew, what a ...     0.3612   \n",
       "7  EDIT: This was a review written for April Fool...     0.9571   \n",
       "8  When it comes to sequels, It is often unclear ...     0.9633   \n",
       "9  Gintama is a hot mess.  OH PLEASEAvoid this an...     0.0000   \n",
       "\n",
       "   Episode Percentage Anime Type  \n",
       "0                 1.0         TV  \n",
       "1                 1.0         TV  \n",
       "2                 1.0         TV  \n",
       "3                 1.0         TV  \n",
       "4                 1.0         TV  \n",
       "5                 1.0         TV  \n",
       "6                 1.0         TV  \n",
       "7                 1.0         TV  \n",
       "8                 1.0         TV  \n",
       "9                 1.0         TV  "
      ]
     },
     "execution_count": 242,
     "metadata": {},
     "output_type": "execute_result"
    }
   ],
   "source": [
    "#SentAn[SentAn.EpisodePercentage == np.nan]\n",
    "SentAn.head(10)"
   ]
  },
  {
   "cell_type": "markdown",
   "id": "aa0bc963-388e-4d3a-84ec-57b3eaf56569",
   "metadata": {},
   "source": [
    "* What Anime Type are the most popular based on your analysis?"
   ]
  },
  {
   "cell_type": "code",
   "execution_count": 294,
   "id": "27f6e756-795e-4ca8-9ba2-a50aa31f0aab",
   "metadata": {},
   "outputs": [
    {
     "name": "stdout",
     "output_type": "stream",
     "text": [
      "As we can see, the most popular Anime Type is \"Bushiroad\". It has the higher sentiment mean and the higher episode percentage.\n"
     ]
    },
    {
     "data": {
      "text/html": [
       "<div>\n",
       "<style scoped>\n",
       "    .dataframe tbody tr th:only-of-type {\n",
       "        vertical-align: middle;\n",
       "    }\n",
       "\n",
       "    .dataframe tbody tr th {\n",
       "        vertical-align: top;\n",
       "    }\n",
       "\n",
       "    .dataframe thead th {\n",
       "        text-align: right;\n",
       "    }\n",
       "</style>\n",
       "<table border=\"1\" class=\"dataframe\">\n",
       "  <thead>\n",
       "    <tr style=\"text-align: right;\">\n",
       "      <th></th>\n",
       "      <th>Sentiment</th>\n",
       "      <th>Episode Percentage</th>\n",
       "    </tr>\n",
       "    <tr>\n",
       "      <th>Anime Type</th>\n",
       "      <th></th>\n",
       "      <th></th>\n",
       "    </tr>\n",
       "  </thead>\n",
       "  <tbody>\n",
       "    <tr>\n",
       "      <th>Bushiroad</th>\n",
       "      <td>0.989900</td>\n",
       "      <td>1.0</td>\n",
       "    </tr>\n",
       "    <tr>\n",
       "      <th>monofilmo</th>\n",
       "      <td>0.971600</td>\n",
       "      <td>1.0</td>\n",
       "    </tr>\n",
       "    <tr>\n",
       "      <th>CBS</th>\n",
       "      <td>0.944200</td>\n",
       "      <td>1.0</td>\n",
       "    </tr>\n",
       "    <tr>\n",
       "      <th>Coastline Animation Studio</th>\n",
       "      <td>0.943900</td>\n",
       "      <td>1.0</td>\n",
       "    </tr>\n",
       "    <tr>\n",
       "      <th>Magic Capsule</th>\n",
       "      <td>0.940300</td>\n",
       "      <td>1.0</td>\n",
       "    </tr>\n",
       "    <tr>\n",
       "      <th>NBCUniversal Entertainment Japan</th>\n",
       "      <td>0.920567</td>\n",
       "      <td>1.0</td>\n",
       "    </tr>\n",
       "    <tr>\n",
       "      <th>Geidai Animation</th>\n",
       "      <td>0.886300</td>\n",
       "      <td>1.0</td>\n",
       "    </tr>\n",
       "    <tr>\n",
       "      <th>Production Reed</th>\n",
       "      <td>0.875000</td>\n",
       "      <td>1.0</td>\n",
       "    </tr>\n",
       "    <tr>\n",
       "      <th>TBS</th>\n",
       "      <td>0.853150</td>\n",
       "      <td>1.0</td>\n",
       "    </tr>\n",
       "    <tr>\n",
       "      <th>Frencel</th>\n",
       "      <td>0.833500</td>\n",
       "      <td>1.0</td>\n",
       "    </tr>\n",
       "  </tbody>\n",
       "</table>\n",
       "</div>"
      ],
      "text/plain": [
       "                                  Sentiment  Episode Percentage\n",
       "Anime Type                                                     \n",
       "Bushiroad                          0.989900                 1.0\n",
       "monofilmo                          0.971600                 1.0\n",
       "CBS                                0.944200                 1.0\n",
       "Coastline Animation Studio         0.943900                 1.0\n",
       "Magic Capsule                      0.940300                 1.0\n",
       "NBCUniversal Entertainment Japan   0.920567                 1.0\n",
       "Geidai Animation                   0.886300                 1.0\n",
       "Production Reed                    0.875000                 1.0\n",
       "TBS                                0.853150                 1.0\n",
       "Frencel                            0.833500                 1.0"
      ]
     },
     "execution_count": 294,
     "metadata": {},
     "output_type": "execute_result"
    }
   ],
   "source": [
    "#We are gonna take the mean of the sentiments for every anime type and sort them to see what anime type are the most popular\n",
    "Popularity = (SentAn.groupby(['Anime Type']).mean()).sort_values(by='Sentiment', ascending = False)\n",
    "\n",
    "print('As we can see, the most popular Anime Type is \"{}\". It has the higher sentiment mean and the higher episode percentage.'.format(Popularity.index[0]))\n",
    "Popularity.head(10)"
   ]
  },
  {
   "cell_type": "markdown",
   "id": "0783d8aa-190e-43ca-87fc-33f047c4cec4",
   "metadata": {},
   "source": [
    "* Does the number of episodes has any impact on the sentiment of the users?"
   ]
  },
  {
   "cell_type": "code",
   "execution_count": 258,
   "id": "4c3a9ea4-4f2d-4c8b-ab22-cda37360e4eb",
   "metadata": {},
   "outputs": [],
   "source": [
    "from statsmodels.compat import lzip\n",
    "import statsmodels.api as sm\n",
    "from statsmodels.formula.api import ols\n",
    "\n",
    "y = np.array(SentAn['Sentiment'])\n",
    "x = np.array(SentAn['Episode Percentage']).reshape((-1, 1))\n",
    "\n",
    "x = sm.add_constant(x)\n",
    "mod = sm.OLS(y, x)\n",
    "\n",
    "res = mod.fit()"
   ]
  },
  {
   "cell_type": "markdown",
   "id": "08703b07-a02c-491b-8e48-54fb751daae7",
   "metadata": {},
   "source": [
    "As we can see below, the p-value of Sentiment is not significant (being above 0.05 threshold), so we can reject the null hypotesis, and thus there isn't relationship between the two variables"
   ]
  },
  {
   "cell_type": "code",
   "execution_count": 297,
   "id": "813d7b4c-1ee9-4e5c-8378-8f2a5ef1e137",
   "metadata": {},
   "outputs": [
    {
     "name": "stdout",
     "output_type": "stream",
     "text": [
      "                            OLS Regression Results                            \n",
      "==============================================================================\n",
      "Dep. Variable:                      y   R-squared:                       0.000\n",
      "Model:                            OLS   Adj. R-squared:                  0.000\n",
      "Method:                 Least Squares   F-statistic:                     1.670\n",
      "Date:                Sun, 14 Nov 2021   Prob (F-statistic):              0.196\n",
      "Time:                        17:26:36   Log-Likelihood:                -28082.\n",
      "No. Observations:               30791   AIC:                         5.617e+04\n",
      "Df Residuals:                   30789   BIC:                         5.619e+04\n",
      "Df Model:                           1                                         \n",
      "Covariance Type:            nonrobust                                         \n",
      "==============================================================================\n",
      "                 coef    std err          t      P>|t|      [0.025      0.975]\n",
      "------------------------------------------------------------------------------\n",
      "coef           0.3220      0.016     19.919      0.000       0.290       0.354\n",
      "Sentiment      0.0219      0.017      1.292      0.196      -0.011       0.055\n",
      "==============================================================================\n",
      "Omnibus:                     4505.214   Durbin-Watson:                   1.868\n",
      "Prob(Omnibus):                  0.000   Jarque-Bera (JB):             3840.311\n",
      "Skew:                          -0.780   Prob(JB):                         0.00\n",
      "Kurtosis:                       2.253   Cond. No.                         9.32\n",
      "==============================================================================\n",
      "\n",
      "Notes:\n",
      "[1] Standard Errors assume that the covariance matrix of the errors is correctly specified.\n"
     ]
    }
   ],
   "source": [
    "print(res.summary(xname=['coef' , 'Sentiment']))"
   ]
  },
  {
   "cell_type": "code",
   "execution_count": 255,
   "id": "b64b935d-5af8-4974-9306-50eefe092a32",
   "metadata": {},
   "outputs": [
    {
     "data": {
      "image/png": "[encoded data removed]",
      "text/plain": [
       "<Figure size 432x288 with 1 Axes>"
      ]
     },
     "metadata": {
      "needs_background": "light"
     },
     "output_type": "display_data"
    }
   ],
   "source": [
    "import seaborn as sns\n",
    "\n",
    "sns.regplot(x=SentAn['Episode Percentage'], y=SentAn['Sentiment'], scatter_kws={\"color\": \"green\"}, line_kws={\"color\": \"red\"})\n",
    "plt.show()"
   ]
  },
  {
   "cell_type": "markdown",
   "id": "734c586e-4469-451b-9eb2-a29dc7768bd3",
   "metadata": {},
   "source": [
    "* Is your sentiment analysis in line with the scores of the animes? "
   ]
  },
  {
   "cell_type": "markdown",
   "id": "4fbd7a6b-5a37-4c02-bf40-60979ec66766",
   "metadata": {},
   "source": [
    "Extraction of a sample from animeScore:\n",
    "we are gonna analyze a sample of 12.000 anime (so we are gonna analyze 60.000 rows) and we study the correlation between the Sentiment and the Scores of the anime"
   ]
  },
  {
   "cell_type": "code",
   "execution_count": 342,
   "id": "14b9e7b2-2158-46ee-b8f4-1278f597cc0b",
   "metadata": {},
   "outputs": [],
   "source": [
    "scores = df.animeScore[:12000]"
   ]
  },
  {
   "cell_type": "code",
   "execution_count": 353,
   "id": "a9d8362c-084a-4c15-ad15-76463e5deb96",
   "metadata": {},
   "outputs": [],
   "source": [
    "scoresSample = []\n",
    "for i in range(len(scores)):\n",
    "    for k in range(5):\n",
    "        scoresSample.append(float(scores[i]))"
   ]
  },
  {
   "cell_type": "code",
   "execution_count": 360,
   "id": "4aa2c6d9-f52b-4fbc-a8f8-ed4253905615",
   "metadata": {},
   "outputs": [
    {
     "name": "stdout",
     "output_type": "stream",
     "text": [
      "Between Sentiment and animeScore there is a correlation of 24.07%\n"
     ]
    }
   ],
   "source": [
    "perc = round(np.corrcoef(scoresSample, sentiments[:60000])[0][1],4)*100\n",
    "print('Between Sentiment and animeScore there is a correlation of {}%'.format(perc))"
   ]
  }
 ],
 "metadata": {
  "kernelspec": {
   "display_name": "Python 3",
   "language": "python",
   "name": "python3"
  },
  "language_info": {
   "codemirror_mode": {
    "name": "ipython",
    "version": 3
   },
   "file_extension": ".py",
   "mimetype": "text/x-python",
   "name": "python",
   "nbconvert_exporter": "python",
   "pygments_lexer": "ipython3",
   "version": "3.8.8"
  },
  "toc-autonumbering": false,
  "toc-showmarkdowntxt": false
 },
 "nbformat": 4,
 "nbformat_minor": 5
}
