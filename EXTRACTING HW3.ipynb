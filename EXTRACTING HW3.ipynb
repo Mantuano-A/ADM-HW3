{
 "cells": [
  {
   "cell_type": "code",
   "execution_count": 105,
   "id": "d286dd99",
   "metadata": {},
   "outputs": [
    {
     "data": {
      "text/plain": [
       "<function TextIOWrapper.close()>"
      ]
     },
     "execution_count": 105,
     "metadata": {},
     "output_type": "execute_result"
    }
   ],
   "source": [
    "from bs4 import BeautifulSoup as bs\n",
    "import requests\n",
    "\n",
    "urls = []\n",
    "\n",
    "i = 0\n",
    "for i in range(100, 200):\n",
    "    url = 'https://myanimelist.net/topanime.php?limit='+str(i*50)\n",
    "    r = requests.get(url)\n",
    "    html_content = r.text\n",
    "    soup = bs(html_content, 'lxml')\n",
    "    links = soup.find_all('h3') \n",
    "\n",
    "    for anime in links[:-3]:\n",
    "        if anime.find('a'):\n",
    "            urls.append(anime.find('a')['href'])\n",
    "\n",
    "f = open(\"topAnimedass.txt\", 'w', encoding=\"utf8\")\n",
    "f.write('\\n'.join(urls))\n",
    "f.close"
   ]
  },
  {
   "cell_type": "code",
   "execution_count": 167,
   "id": "7de83d78",
   "metadata": {},
   "outputs": [],
   "source": [
    "linko = requests.get('https://myanimelist.net/anime/5114/Fullmetal_Alchemist__Brotherhood')\n",
    "linko = linko.text\n",
    "prova = bs(linko, 'lxml')\n",
    "\n",
    "\n"
   ]
  },
  {
   "cell_type": "markdown",
   "id": "a1825778",
   "metadata": {},
   "source": [
    "# Extracting"
   ]
  },
  {
   "cell_type": "code",
   "execution_count": 421,
   "id": "07c8bcb8",
   "metadata": {},
   "outputs": [
    {
     "data": {
      "text/plain": [
       "\"['Fullmetal Alchemist: Brotherhood']\""
      ]
     },
     "execution_count": 421,
     "metadata": {},
     "output_type": "execute_result"
    }
   ],
   "source": [
    "#NAME\n",
    "animeTitle = str(prova.strong.contents)\n",
    "\n",
    "\n",
    "#titoli = prova.find('strong') #extracting only the first 'strong' element, that corresponds to the title\n",
    "#print(titoli)\n",
    "animeTitle"
   ]
  },
  {
   "cell_type": "code",
   "execution_count": 424,
   "id": "3a48743f",
   "metadata": {},
   "outputs": [
    {
     "data": {
      "text/plain": [
       "\"['TV']\""
      ]
     },
     "execution_count": 424,
     "metadata": {},
     "output_type": "execute_result"
    }
   ],
   "source": [
    "#TYPE\n",
    "\n",
    "animeType = str(prova.find(text='Type:').find_next('a').contents)\n",
    "animeType"
   ]
  },
  {
   "cell_type": "code",
   "execution_count": 324,
   "id": "0b375387",
   "metadata": {},
   "outputs": [
    {
     "data": {
      "text/plain": [
       "64"
      ]
     },
     "execution_count": 324,
     "metadata": {},
     "output_type": "execute_result"
    }
   ],
   "source": [
    "#NUM EPISODE\n",
    "\n",
    "animeNumEpisode = int(prova.find(text='Episodes:').next_element.strip())\n",
    "animeNumEpisode"
   ]
  },
  {
   "cell_type": "code",
   "execution_count": 360,
   "id": "54cd0bca",
   "metadata": {},
   "outputs": [
    {
     "data": {
      "text/plain": [
       "'Apr 5, 2009 Jul 4, 2010'"
      ]
     },
     "execution_count": 360,
     "metadata": {},
     "output_type": "execute_result"
    }
   ],
   "source": [
    "#RELEASE DATE\n",
    "\n",
    "from datetime import datetime\n",
    "\n",
    "#da rifare, usare strptime\n",
    "\n",
    "Date = prova.find(text = 'Aired:').next_element.strip().replace('to ', '')\n",
    "Date\n",
    "#datetime.strptime(Date, '%b %-d, %Y  %b %-d, %Y')"
   ]
  },
  {
   "cell_type": "code",
   "execution_count": null,
   "id": "3a42afc8",
   "metadata": {},
   "outputs": [],
   "source": [
    "#END DATE\n",
    "\n",
    "endDate"
   ]
  },
  {
   "cell_type": "code",
   "execution_count": 388,
   "id": "1473cc3d",
   "metadata": {},
   "outputs": [
    {
     "data": {
      "text/plain": [
       "2676862"
      ]
     },
     "execution_count": 388,
     "metadata": {},
     "output_type": "execute_result"
    }
   ],
   "source": [
    "#NUMBER OF MEMBERS\n",
    "\n",
    "animeNumMembers = prova.find(text='Members:').next_element\n",
    "animeNumMembers = int(animeNumMembers.replace('n', '').replace(',', '').strip())\n",
    "animeNumMembers"
   ]
  },
  {
   "cell_type": "code",
   "execution_count": 396,
   "id": "c4c643ff",
   "metadata": {},
   "outputs": [],
   "source": [
    "#SCORE\n",
    "\n",
    "animeScore ="
   ]
  },
  {
   "cell_type": "code",
   "execution_count": 370,
   "id": "c46574dd",
   "metadata": {},
   "outputs": [
    {
     "data": {
      "text/plain": [
       "1"
      ]
     },
     "execution_count": 370,
     "metadata": {},
     "output_type": "execute_result"
    }
   ],
   "source": [
    "#RANK\n",
    "\n",
    "animeRank = prova.find(text='Ranked:').next_element\n",
    "animeRank = int(Rank.replace('\\n', '').replace('#', '').strip())\n",
    "animeRank"
   ]
  },
  {
   "cell_type": "code",
   "execution_count": 335,
   "id": "a2a54b7d",
   "metadata": {},
   "outputs": [
    {
     "data": {
      "text/plain": [
       "3"
      ]
     },
     "execution_count": 335,
     "metadata": {},
     "output_type": "execute_result"
    }
   ],
   "source": [
    "#POPULARITY\n",
    "\n",
    "animePopularity = prova.find(text='Popularity:').next_element\n",
    "animePopularity = int(animePopularity.replace(\"\\n\",\"\").replace('#', '').strip())\n",
    "animePopularity"
   ]
  },
  {
   "cell_type": "code",
   "execution_count": 415,
   "id": "dde2e826",
   "metadata": {},
   "outputs": [
    {
     "data": {
      "text/plain": [
       "[]"
      ]
     },
     "execution_count": 415,
     "metadata": {},
     "output_type": "execute_result"
    }
   ],
   "source": [
    "#SYNOPSIS\n",
    "\n",
    "animeDescription"
   ]
  },
  {
   "cell_type": "code",
   "execution_count": null,
   "id": "d1028e2c",
   "metadata": {},
   "outputs": [],
   "source": [
    "#RELATED ANIME\n",
    "\n",
    "animeRelated = "
   ]
  },
  {
   "cell_type": "code",
   "execution_count": null,
   "id": "ac218a7d",
   "metadata": {},
   "outputs": [],
   "source": [
    "#CHARACTERS\n",
    "\n"
   ]
  },
  {
   "cell_type": "code",
   "execution_count": null,
   "id": "03de550b",
   "metadata": {},
   "outputs": [],
   "source": [
    "#VOICES\n",
    "\n"
   ]
  },
  {
   "cell_type": "code",
   "execution_count": null,
   "id": "e1823185",
   "metadata": {},
   "outputs": [],
   "source": [
    "#STAFF\n",
    "\n"
   ]
  }
 ],
 "metadata": {
  "kernelspec": {
   "display_name": "Python 3",
   "language": "python",
   "name": "python3"
  },
  "language_info": {
   "codemirror_mode": {
    "name": "ipython",
    "version": 3
   },
   "file_extension": ".py",
   "mimetype": "text/x-python",
   "name": "python",
   "nbconvert_exporter": "python",
   "pygments_lexer": "ipython3",
   "version": "3.8.8"
  }
 },
 "nbformat": 4,
 "nbformat_minor": 5
}
