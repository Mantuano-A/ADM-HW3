{
 "cells": [
  {
   "cell_type": "code",
   "execution_count": 274,
   "id": "ebd6faf8",
   "metadata": {},
   "outputs": [
    {
     "name": "stdout",
     "output_type": "stream",
     "text": [
      "[[30, 25, 170, 10, 30], [30, 50, 20, 20, 40], [30, 25, 20, 20, 40], [30, 50, 10, 30], [30, 25, 170, 20, 40], [30, 50, 20, 30], [30, 25, 20, 30], [30, 25, 170, 10, 40], [30, 50, 10, 40]]\n",
      "The best way to accept the appointments in the given order is:  [30, 25, 170, 20, 40] \n",
      "with a total duration of : 285\n"
     ]
    }
   ],
   "source": [
    "import numpy as np\n",
    "\n",
    "request = [30,40,25,50,170,20,10,20,30,40]\n",
    "\n",
    "index = np.array([*range(1,len(request)+1)])\n",
    "lists = []\n",
    "lists.append([1])\n",
    "n = 2\n",
    "\n",
    "while n < len(index):\n",
    "    for l in lists:\n",
    "        if(n - np.where(index == l[-1])[0][0] == 2):\n",
    "            l.append(index[n])\n",
    "        if len(l)>1 and (n - np.where(index == l[-2])[0][0] == 3):\n",
    "            aux = l[:-1]\n",
    "            aux.append(index[n]) \n",
    "            if aux not in lists:\n",
    "                lists.append(aux)\n",
    "    n +=1\n",
    "\n",
    "for l in lists:\n",
    "    for i in range(len(l)):\n",
    "        ind = l[i]-1\n",
    "        l[i] = request[ind]\n",
    "        \n",
    "sums = np.array([sum(l) for l in lists])\n",
    "max_value = np.where(sums == max(sums))[0][0]\n",
    "\n",
    "request = lists[max_value]\n",
    "print(\"The best way to accept the appointments in the given order is: \", request ,\"\\nwith a total duration of :\" , max(sums))"
   ]
  },
  {
   "cell_type": "code",
   "execution_count": null,
   "id": "a9475632",
   "metadata": {},
   "outputs": [],
   "source": []
  },
  {
   "cell_type": "code",
   "execution_count": null,
   "id": "f26ece8d",
   "metadata": {},
   "outputs": [],
   "source": []
  }
 ],
 "metadata": {
  "kernelspec": {
   "display_name": "Python 3",
   "language": "python",
   "name": "python3"
  },
  "language_info": {
   "codemirror_mode": {
    "name": "ipython",
    "version": 3
   },
   "file_extension": ".py",
   "mimetype": "text/x-python",
   "name": "python",
   "nbconvert_exporter": "python",
   "pygments_lexer": "ipython3",
   "version": "3.8.8"
  }
 },
 "nbformat": 4,
 "nbformat_minor": 5
}
